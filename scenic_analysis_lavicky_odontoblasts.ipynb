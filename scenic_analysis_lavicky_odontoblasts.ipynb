{
 "cells": [
  {
   "cell_type": "code",
   "execution_count": null,
   "id": "5a0fc7a4-caf0-4ca6-aa49-d81557fcec61",
   "metadata": {},
   "outputs": [],
   "source": [
    "# scenic analysis\n",
    "# libraries\n",
    "import scanpy as sc\n",
    "import numpy as np\n",
    "import pandas as pd\n",
    "import seaborn as sns\n",
    "import matplotlib.pyplot as plt\n",
    "import loompy as lp\n",
    "\n",
    "sc.set_figure_params(dpi=150)\n",
    "sns.set_style(\"ticks\")"
   ]
  },
  {
   "cell_type": "code",
   "execution_count": null,
   "id": "1ef7dbbb-b403-42e3-baf9-d583e4494225",
   "metadata": {},
   "outputs": [],
   "source": [
    "# Load dataset, filter lowly expressed genes, standardize index names, and add \"Gene\" and \"CellID\" columns to metadata\n",
    "adata = sc.read_loom(\"/path/to/folder/loom_converted_from_seurat.loom\")\n",
    "\n",
    "sc.pp.filter_genes(adata, min_cells=5)\n",
    "\n",
    "adata.obs.index = list(adata.obs_names)\n",
    "adata.var.index = list(adata.var_names)\n",
    "\n",
    "adata.var[\"Gene\"] = adata.var_names\n",
    "adata.obs[\"CellID\"] = adata.obs_names\n",
    "\n",
    "adata.write_loom(\"/path/to/folder/new_loom.loom\")"
   ]
  },
  {
   "cell_type": "code",
   "execution_count": null,
   "id": "d6f3b2c1-b7e0-4bc6-b942-71131cb794ef",
   "metadata": {},
   "outputs": [],
   "source": [
    "# pyscenic grn step\n",
    "!. \"/opt/conda/etc/profile.d/conda.sh\" && conda activate scenic && pyscenic grn \\\n",
    "  --num_workers 20 \\\n",
    "  -o  /path/to/folder/dataset_adjacencies.tsv \\\n",
    "  /path/to/folder/new_loom.loom\\\n",
    "  /path/to/folder/dataset/resources/mm_mgi_tfs.txt"
   ]
  },
  {
   "cell_type": "code",
   "execution_count": null,
   "id": "80be564f-102f-4f18-85be-4104bf5f9499",
   "metadata": {},
   "outputs": [],
   "source": [
    "# pyscenic ctx step\n",
    "!. \"/opt/conda/etc/profile.d/conda.sh\" && conda activate scenic && pyscenic ctx \\\n",
    "  /path/to/folder/dataset_adjacencies.tsv \\\n",
    "  /path/to/folder/resources/mm10__refseq-r80__10kb_up_and_down_tss.mc9nr.genes_vs_motifs.rankings.feather \\\n",
    "  /path/to/folder/resources/mm10__refseq-r80__500bp_up_and_100bp_down_tss.mc9nr.genes_vs_motifs.rankings.feather \\\n",
    "  --annotations_fname /path/to/folder/resources/motifs-v9-nr.mgi-m0.001-o0.0.tbl \\\n",
    "  --expression_mtx_fname  /path/to/folder/new_loom.loom \\\n",
    "  --output /path/to/folder/dataset_regulon.tsv \\\n",
    "  --mode \"dask_multiprocessing\" \\\n",
    "  --num_workers 20"
   ]
  },
  {
   "cell_type": "code",
   "execution_count": null,
   "id": "378d90c3-e0d0-4fab-95ab-d803739bdfc6",
   "metadata": {},
   "outputs": [],
   "source": [
    "# pyscenic aucell step\n",
    "!. \"/opt/conda/etc/profile.d/conda.sh\" && conda activate scenic && pyscenic aucell \\\n",
    "  /path/to/folder/new_loom.loom\\\n",
    "  /path/to/folder/dataset_regulon.tsv \\\n",
    "  -o /path/to/folder/scenic.loom \\\n",
    "  --num_workers 20"
   ]
  },
  {
   "cell_type": "code",
   "execution_count": null,
   "id": "622a355c-f95f-4ea2-851b-24c493a006c0",
   "metadata": {},
   "outputs": [],
   "source": [
    "# Extract SCENIC regulon activities and gene targets from loom file\n",
    "lf = lp.connect(\"/path/to/folder/scenic.loom\", mode=\"r+\", validate=False )\n",
    "\n",
    "auc_mtx = pd.DataFrame(lf.ca.RegulonsAUC, index=lf.ca.CellID)\n",
    "scenic = sc.AnnData(auc_mtx, obs=adata.obs)\n",
    "scenic.to_df().to_csv(\"/path/to/folder/activities.tsv\", sep=\"\\t\")\n",
    "\n",
    "regulons = lf.ra.Regulons\n",
    "res = pd.concat([pd.Series(r.tolist(), index=regulons.dtype.names) for r in regulons], axis=1)\n",
    "res.columns = lf.row_attrs[\"var_names\"]\n",
    "res.to_csv(\"/path/to/folder/mat.csv\")\n",
    "with open(\"/path/to/folder/genes.txt\", \"w\") as f:\n",
    "    f.write(\"\".join([j + \"\\n\" + i.strip(\", \") + \"\\n\\n\" for i, j in zip((res.columns + \", \") @ res.astype(bool).values.T, res.index)]).strip())\n",
    "\n",
    "lf.close()"
   ]
  }
 ],
 "metadata": {
  "kernelspec": {
   "display_name": "",
   "name": ""
  },
  "language_info": {
   "name": ""
  }
 },
 "nbformat": 4,
 "nbformat_minor": 5
}
